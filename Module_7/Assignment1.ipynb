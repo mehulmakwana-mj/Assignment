{
 "cells": [
  {
   "cell_type": "markdown",
   "id": "b8ad5210-7736-4e28-a76a-e72c16310d0b",
   "metadata": {},
   "source": [
    "#Assignment"
   ]
  },
  {
   "cell_type": "raw",
   "id": "1538021b-7277-4c71-aa0e-2d7f4aa2cc03",
   "metadata": {},
   "source": [
    "4.Write a Python program to check if a number is positive, negative or \n",
    "zero. \n"
   ]
  },
  {
   "cell_type": "code",
   "execution_count": 5,
   "id": "f0f106b7-55e8-412b-bf2b-ef68470c4079",
   "metadata": {},
   "outputs": [
    {
     "name": "stdin",
     "output_type": "stream",
     "text": [
      " enter number: 0\n"
     ]
    },
    {
     "name": "stdout",
     "output_type": "stream",
     "text": [
      "Num is negative\n",
      "Num is positive\n",
      "Num is zero\n"
     ]
    }
   ],
   "source": [
    "num = int(input(\" enter number:\"))\n",
    "if num<= 0:\n",
    "    print(\"Num is negative\")\n",
    "elif num>= 0:\n",
    "    print(\"Num is positive\")\n",
    "elif num==0:\n",
    "    print(\"Num is zero\")"
   ]
  },
  {
   "cell_type": "raw",
   "id": "c0546a36-6a32-4638-95ff-fca10e152b48",
   "metadata": {},
   "source": [
    "5.Write a Python program to get the Factorial number of given numbers"
   ]
  },
  {
   "cell_type": "code",
   "execution_count": 20,
   "id": "cc720a68-686e-4f36-9622-2cba432b2e17",
   "metadata": {},
   "outputs": [
    {
     "name": "stdin",
     "output_type": "stream",
     "text": [
      "Enter number: 8\n"
     ]
    },
    {
     "name": "stdout",
     "output_type": "stream",
     "text": [
      "40320\n"
     ]
    }
   ],
   "source": [
    "n= int(input(\"Enter number:\"))\n",
    "x=1\n",
    "\n",
    "for i in range(1,n+1):\n",
    "    x*=i\n",
    "    if i==n:\n",
    "        print(x)\n",
    "    "
   ]
  },
  {
   "cell_type": "raw",
   "id": "1b08bb07-bb18-4545-a442-2c717f880706",
   "metadata": {},
   "source": [
    "6.Write a Python program to get the Fibonacci series of given range"
   ]
  },
  {
   "cell_type": "code",
   "execution_count": 26,
   "id": "7e55cadb-7b7c-4b52-b28d-da5a35bc6048",
   "metadata": {},
   "outputs": [
    {
     "name": "stdin",
     "output_type": "stream",
     "text": [
      "Enter number: 6\n"
     ]
    },
    {
     "name": "stdout",
     "output_type": "stream",
     "text": [
      "0 1 1 2 3 5 "
     ]
    }
   ],
   "source": [
    "n = int(input(\"Enter number:\"))\n",
    "        \n",
    "def fibonacci(n):\n",
    "    if n<=1:\n",
    "        return n\n",
    "    return fibonacci(n-1)+fibonacci(n-2)\n",
    "\n",
    "for i in range(n):\n",
    "    print (fibonacci(i),end=\" \")"
   ]
  },
  {
   "cell_type": "raw",
   "id": "7063077c-c3f5-47f7-a483-c5bdb0e4df2a",
   "metadata": {},
   "source": [
    "9.Write python program that swap two number with temp variable \n",
    "and without temp variable"
   ]
  },
  {
   "cell_type": "code",
   "execution_count": 44,
   "id": "9652eb97-f707-4c12-b670-1b8b8599999b",
   "metadata": {},
   "outputs": [
    {
     "name": "stdin",
     "output_type": "stream",
     "text": [
      "Number1: 5\n",
      "Number2: 7\n"
     ]
    },
    {
     "name": "stdout",
     "output_type": "stream",
     "text": [
      "before swapping(with temp):a=5,b=7\n",
      "after swapping(with temp): a=7,b=5\n",
      "before swapping(without temp):a = 5,b=7\n",
      "after swapping(without temp):a = 7,b=5\n"
     ]
    },
    {
     "data": {
      "text/plain": [
       "(7, 5)"
      ]
     },
     "execution_count": 44,
     "metadata": {},
     "output_type": "execute_result"
    }
   ],
   "source": [
    "a = int(input(\"Number1:\"))\n",
    "b = int(input(\"Number2:\"))\n",
    "def swap_with_temp(a,b):\n",
    "    print(f\"before swapping(with temp):a={a},b={b}\")\n",
    "    temp = a\n",
    "    a = b\n",
    "    b = temp\n",
    "    print(f\"after swapping(with temp): a={a},b={b}\")\n",
    "    return a,b\n",
    "\n",
    "def swap_without_temp(a,b):\n",
    "    print(f\"before swapping(without temp):a = {a},b={b}\")\n",
    "    a,b=b,a\n",
    "    print(f\"after swapping(without temp):a = {a},b={b}\")\n",
    "    return a,b\n",
    "    \n",
    "\n",
    "swap_with_temp(a,b)\n",
    "swap_without_temp(a,b)"
   ]
  },
  {
   "cell_type": "raw",
   "id": "78193f05-5086-443e-b7d4-88f82fa476c6",
   "metadata": {},
   "source": [
    "10.Write a Python program to find whether a given number is even \n",
    "or odd, print out an appropriate message to the user"
   ]
  },
  {
   "cell_type": "code",
   "execution_count": 66,
   "id": "105006da-0bab-4cf1-8574-f3f2416ccbc8",
   "metadata": {},
   "outputs": [
    {
     "name": "stdin",
     "output_type": "stream",
     "text": [
      "Enter number: 0\n"
     ]
    },
    {
     "name": "stdout",
     "output_type": "stream",
     "text": [
      "Num is even: 0.0\n"
     ]
    }
   ],
   "source": [
    "num = float(input(\"Enter number:\"))\n",
    "\n",
    "if n%2==0:\n",
    "    print(\"Num is even:\",num)\n",
    "elif n%2!=0:\n",
    "    print(\"Num is odd:\",num)\n",
    "else:\n",
    "    print(\"Invalid number\")"
   ]
  },
  {
   "cell_type": "raw",
   "id": "18d0d643-6412-42af-85e2-47a0123b5d38",
   "metadata": {},
   "source": [
    "11. Write a Python program to test whether a passed letter is a vowel \n",
    "or not. "
   ]
  },
  {
   "cell_type": "code",
   "execution_count": 86,
   "id": "fd43c12c-891a-471d-8c0a-e3262bff8196",
   "metadata": {},
   "outputs": [
    {
     "name": "stdin",
     "output_type": "stream",
     "text": [
      "Enter the word: a\n"
     ]
    },
    {
     "name": "stdout",
     "output_type": "stream",
     "text": [
      "Word is vowel a\n"
     ]
    }
   ],
   "source": [
    "W = input(\"Enter the word:\")\n",
    "V = \"AEIOUaeiou\"\n",
    "\n",
    "if W in V:\n",
    "    print(\"Word is vowel\",W)\n",
    "else:\n",
    "    print(\"Word is consonant\",W)\n"
   ]
  },
  {
   "cell_type": "raw",
   "id": "0fb00230-3cc5-41e8-bbda-38de9e86bb22",
   "metadata": {},
   "source": [
    "12. Write a Python program to sum of three given integers. However, if \n",
    "two values are equal sum will be zero. \n"
   ]
  },
  {
   "cell_type": "code",
   "execution_count": 110,
   "id": "0fd4abcf-b118-4807-907d-b3fe0365091e",
   "metadata": {},
   "outputs": [
    {
     "name": "stdin",
     "output_type": "stream",
     "text": [
      "Enter number 1: 12\n",
      "Enter number 2: 32\n",
      "Enter number 3: 36\n"
     ]
    },
    {
     "name": "stdout",
     "output_type": "stream",
     "text": [
      "80\n"
     ]
    }
   ],
   "source": [
    "a = int(input(\"Enter number 1:\"))\n",
    "b = int(input(\"Enter number 2:\"))\n",
    "c = int(input(\"Enter number 3:\"))\n",
    "s = 0\n",
    "\n",
    "if ((a==b) or (b==c) or (c==a)):\n",
    "    print(s)\n",
    "else:\n",
    "    s = a + b + c\n",
    "    print(s)"
   ]
  },
  {
   "cell_type": "raw",
   "id": "a8a193af-f93b-4585-b267-357c0d5f0eb0",
   "metadata": {},
   "source": [
    "13.Write a Python program that will return true if the two given \n",
    "integer values are equal or their sum or difference is 5."
   ]
  },
  {
   "cell_type": "code",
   "execution_count": 9,
   "id": "248ee390-2246-4830-ad0e-42442755ac0f",
   "metadata": {},
   "outputs": [
    {
     "name": "stdin",
     "output_type": "stream",
     "text": [
      "Number 1: 8\n",
      "Number 2: 3\n"
     ]
    },
    {
     "name": "stdout",
     "output_type": "stream",
     "text": [
      "True\n"
     ]
    }
   ],
   "source": [
    "n1 = int(input(\"Number 1:\"))\n",
    "n2 = int(input(\"Number 2:\"))\n",
    "\n",
    "if n1==n2:\n",
    "    print(\"True\")\n",
    "elif n1+n2==5:\n",
    "    print(\"True\")\n",
    "elif n1-n2==5:\n",
    "    print(\"True\")\n",
    "\n",
    "else:\n",
    "    print(\"False\")"
   ]
  },
  {
   "cell_type": "raw",
   "id": "6af4569e-96e6-4bae-87c4-b657fe4a14a9",
   "metadata": {},
   "source": [
    "14.)Write a python program to sum of the first n positive integers."
   ]
  },
  {
   "cell_type": "code",
   "execution_count": 7,
   "id": "4f6e8d64-2da8-4323-9dc9-71b51956d6d3",
   "metadata": {},
   "outputs": [
    {
     "name": "stdin",
     "output_type": "stream",
     "text": [
      "Enter your number: 2\n"
     ]
    },
    {
     "name": "stdout",
     "output_type": "stream",
     "text": [
      "Sum of first 2 Positive integers is -> 3\n"
     ]
    }
   ],
   "source": [
    "Num=int(input(\"Enter your number:\"))\n",
    "\n",
    "sum_n = Num*(Num+1)//2\n",
    "\n",
    "print(\"Sum of first\",Num,\"Positive integers is ->\",sum_n)\n"
   ]
  },
  {
   "cell_type": "raw",
   "id": "9936c271-9b0b-4d6a-9f96-faf08b5c2fce",
   "metadata": {},
   "source": [
    "15.Write a Python program to calculate the length of a string."
   ]
  },
  {
   "cell_type": "code",
   "execution_count": 10,
   "id": "379c1569-5635-42b3-85fd-31bd5d9b4556",
   "metadata": {},
   "outputs": [
    {
     "name": "stdin",
     "output_type": "stream",
     "text": [
      "Enter the name: python\n"
     ]
    },
    {
     "name": "stdout",
     "output_type": "stream",
     "text": [
      "Length of string is: 6\n"
     ]
    }
   ],
   "source": [
    "name = input(\"Enter the name:\")\n",
    "str_length = len(name)\n",
    "\n",
    "print(\"Length of string is:\",str_length)"
   ]
  },
  {
   "cell_type": "raw",
   "id": "d05373db-932a-4baa-bc5a-058e94748000",
   "metadata": {},
   "source": [
    "16.Write a Python program to count the number of characters\n",
    "(character frequency) in a string"
   ]
  },
  {
   "cell_type": "code",
   "execution_count": 16,
   "id": "35e80c37-d405-4f58-a8c3-789ef7fa2ea6",
   "metadata": {},
   "outputs": [
    {
     "name": "stdin",
     "output_type": "stream",
     "text": [
      "Enter the string: hhiill\n"
     ]
    },
    {
     "name": "stdout",
     "output_type": "stream",
     "text": [
      "character frequency\n",
      "h:2\n",
      "i:2\n",
      "l:2\n"
     ]
    }
   ],
   "source": [
    "my_str = input(\"Enter the string:\")\n",
    "str_counts={}\n",
    "\n",
    "for i in my_str:\n",
    "    if i in str_counts:\n",
    "        str_counts[i]+=1\n",
    "    else:\n",
    "        str_counts[i]=1\n",
    "\n",
    "print(\"character frequency:\")\n",
    "for i,count in str_counts.items():\n",
    "    print(f\"{i}:{count}\")\n"
   ]
  },
  {
   "cell_type": "raw",
   "id": "0457eeae-76db-4d23-9737-4e4a120b71b2",
   "metadata": {},
   "source": [
    "18.Write a Python program to count occurrences of a substring in a string."
   ]
  },
  {
   "cell_type": "code",
   "execution_count": 18,
   "id": "9071e79d-1084-462d-a024-4d7ceb2e0589",
   "metadata": {},
   "outputs": [
    {
     "name": "stdin",
     "output_type": "stream",
     "text": [
      "Enter string: hello banana hello banana\n",
      "Enter substring: banana\n"
     ]
    },
    {
     "name": "stdout",
     "output_type": "stream",
     "text": [
      "Sub_string ->'banana'comes 2 times,\n"
     ]
    }
   ],
   "source": [
    "Name = input(\"Enter string:\")\n",
    "sub_string =input(\"Enter substring:\")\n",
    "\n",
    "occurrences = Name.count(sub_string)\n",
    "print(f\"Sub_string ->'{sub_string}'comes {occurrences} times\")"
   ]
  },
  {
   "cell_type": "raw",
   "id": "d375e32a-044a-4347-bcf9-e1e2cdd1b922",
   "metadata": {},
   "source": [
    "19.Write a Python program to count the occurrences of each word in a given sentence"
   ]
  },
  {
   "cell_type": "code",
   "execution_count": null,
   "id": "821433d2-0755-49e2-a94f-9d5a2cf01aaf",
   "metadata": {},
   "outputs": [],
   "source": [
    "sentence = input(\"Enter the string:\")\n",
    "word_counts={}\n",
    "\n",
    "for i in sentence:\n",
    "    if i in word_counts:\n",
    "        word_counts[i]+=1\n",
    "    else:\n",
    "        word_counts[i]=1\n",
    "\n",
    "print(\"Word occurrence:\")\n",
    "for i,count in word_counts.items():\n",
    "    print(f\"{i}:{count}\")"
   ]
  },
  {
   "cell_type": "raw",
   "id": "c2653f12-a751-4981-9e6d-0352ccb506ae",
   "metadata": {},
   "source": [
    "20.Write a Python program to get a single string from two given strings,\n",
    "separated by a space and swap the first two characters of each string."
   ]
  },
  {
   "cell_type": "code",
   "execution_count": 23,
   "id": "71ff8566-3ef8-443c-862f-1873a4d663d2",
   "metadata": {},
   "outputs": [
    {
     "name": "stdin",
     "output_type": "stream",
     "text": [
      "Enter string1: hello\n",
      "Enter string2: good\n"
     ]
    },
    {
     "name": "stdout",
     "output_type": "stream",
     "text": [
      "New string is-> gollo heod\n"
     ]
    }
   ],
   "source": [
    "str_1 = input(\"Enter string1:\")\n",
    "str_2 = input(\"Enter string2:\")\n",
    "\n",
    "new_str1 = str_2[:2] + str_1[2:]\n",
    "new_str2 = str_1[:2] + str_2[2:]\n",
    "\n",
    "final_string = new_str1+\" \"+new_str2\n",
    "\n",
    "print(\"New string is->\", final_string)"
   ]
  },
  {
   "cell_type": "raw",
   "id": "b28801b3-89fe-43b2-9117-6d2767f9e302",
   "metadata": {},
   "source": [
    "21.Write a Python program to add 'in' at the end of a given string (length\n",
    "should be at least 3). If the given string already ends with 'ing' then\n",
    "add 'ly' instead if the string length of the given string is less than 3,\n",
    "leave it unchanged."
   ]
  },
  {
   "cell_type": "code",
   "execution_count": 28,
   "id": "b13e812a-7aa1-4cb1-9f70-a84d094e2719",
   "metadata": {},
   "outputs": [
    {
     "name": "stdin",
     "output_type": "stream",
     "text": [
      "Enter string: liv\n"
     ]
    },
    {
     "name": "stdout",
     "output_type": "stream",
     "text": [
      "livin\n"
     ]
    }
   ],
   "source": [
    "str_1 = input(\"Enter string:\")\n",
    "str_len = len(str_1)\n",
    "\n",
    "if str_len<3:\n",
    "    n_str=str_1\n",
    "    print(\"string is short->\",str_1)\n",
    "elif str_1.endswith('ing'):\n",
    "    n_str=str_1 + 'ly'\n",
    "    print(n_str)\n",
    "else:\n",
    "    n_str=str_1 + 'in'\n",
    "    print(n_str)"
   ]
  },
  {
   "cell_type": "raw",
   "id": "3240712e-caa0-4cd4-9555-c5f3cfdd87d1",
   "metadata": {},
   "source": [
    "22.Write a Python function to reverses a string if its length is a multiple\n",
    "of 4."
   ]
  },
  {
   "cell_type": "code",
   "execution_count": 36,
   "id": "30a34bbe-0940-4cdc-bbea-adba28997467",
   "metadata": {},
   "outputs": [
    {
     "name": "stdin",
     "output_type": "stream",
     "text": [
      "enter string: abcdefgh\n"
     ]
    },
    {
     "data": {
      "text/plain": [
       "'hgfedcba'"
      ]
     },
     "execution_count": 36,
     "metadata": {},
     "output_type": "execute_result"
    }
   ],
   "source": [
    "\n",
    "\n",
    "def reverse_str (string=(input(\"enter string:\"))):\n",
    "    str_len = len(string)\n",
    "    if str_len%4 == 0:\n",
    "        rev_string = string[::-1]\n",
    "        return rev_string\n",
    "    else:\n",
    "        return string\n",
    "\n",
    "reverse_str()"
   ]
  },
  {
   "cell_type": "raw",
   "id": "2b7c0605-0b61-48d6-90e2-eeef30c571c1",
   "metadata": {},
   "source": [
    "23.Write a Python program to get a string made of the first 2 and the last\n",
    "2 chars from a given a string. If the string length is less than 2, return\n",
    "instead of the empty string."
   ]
  },
  {
   "cell_type": "code",
   "execution_count": 45,
   "id": "da5ad13e-fd0f-45a3-a85d-635593816624",
   "metadata": {},
   "outputs": [
    {
     "name": "stdin",
     "output_type": "stream",
     "text": [
      "Enter string: like\n"
     ]
    },
    {
     "name": "stdout",
     "output_type": "stream",
     "text": [
      "original:'like' -> result:'like'\n"
     ]
    }
   ],
   "source": [
    "string = input(\"Enter string:\")\n",
    "str_len = len(string)\n",
    "\n",
    "if len(string)<2:\n",
    "    r_string = \" \"\n",
    "    print(f\"string is short(length->{str_len}).result:{r_string}\")\n",
    "else:\n",
    "    first_two = string[:2]\n",
    "    last_two = string[-2:]\n",
    "\n",
    "    final_str = first_two + last_two\n",
    "    print(f\"original:'{string}' -> result:'{final_str}'\")\n",
    "\n"
   ]
  },
  {
   "cell_type": "raw",
   "id": "0b265ffc-492a-42e6-962b-323fd9db5ca2",
   "metadata": {},
   "source": [
    "24.Write a Python function to insert a string in the middle of a string."
   ]
  },
  {
   "cell_type": "code",
   "execution_count": 55,
   "id": "1f829fb8-e0fe-4fc0-b534-27eaedd55c5a",
   "metadata": {},
   "outputs": [
    {
     "name": "stdin",
     "output_type": "stream",
     "text": [
      "Enter text1: good \n",
      "Enter text2: laptop\n"
     ]
    },
    {
     "data": {
      "text/plain": [
       "'golaptopod '"
      ]
     },
     "execution_count": 55,
     "metadata": {},
     "output_type": "execute_result"
    }
   ],
   "source": [
    "text1=input(\"Enter text1:\")\n",
    "text2=input(\"Enter text2:\")\n",
    "def insert_middle(text1,text2):\n",
    "    middle=len(text1)//2\n",
    "\n",
    "    result = text1[:middle]+text2+text1[middle:]\n",
    "\n",
    "    return result\n",
    "insert_middle(text1,text2)"
   ]
  },
  {
   "cell_type": "raw",
   "id": "faed2f70-bc42-4e6f-a611-12f7fa5526cc",
   "metadata": {},
   "source": [
    "29.Write a Python function to get the largest number, smallest num\n",
    "and sum of all from a list."
   ]
  },
  {
   "cell_type": "code",
   "execution_count": 58,
   "id": "4b3b48e1-43dd-4804-83e7-af4265e8f5a5",
   "metadata": {},
   "outputs": [
    {
     "name": "stdout",
     "output_type": "stream",
     "text": [
      "largest number is : 6\n",
      "smallest number is : 1\n",
      "sum of all is: 21\n"
     ]
    }
   ],
   "source": [
    "l1=[1,2,3,4,5,6]\n",
    "\n",
    "print(\"largest number is :\",max(l1))\n",
    "print(\"smallest number is :\",min(l1))\n",
    "print(\"sum of all is:\",sum(l1))"
   ]
  },
  {
   "cell_type": "raw",
   "id": "0ceb8715-bd9a-476f-81b3-8e6eeb4d10fb",
   "metadata": {},
   "source": [
    "31. Write a Python program to count the number of strings where the string\n",
    "length is 2 or more and the first and last character are same from a given list\n",
    "of strings."
   ]
  },
  {
   "cell_type": "code",
   "execution_count": 61,
   "id": "de740175-e02d-4b6e-a3e9-e6a3393aeefe",
   "metadata": {},
   "outputs": [
    {
     "name": "stdout",
     "output_type": "stream",
     "text": [
      "Total count is: 4\n"
     ]
    }
   ],
   "source": [
    "str_1 = [\"abc\",\"bcb\",\"121\",\"xyz\",\"tat\",\"anna\"]\n",
    "count = 0\n",
    "\n",
    "for i in str_1:\n",
    "    if len(i)>=2 and i[0]==i[-1]:\n",
    "        count += 1\n",
    "print(\"Total count is:\",count)\n",
    "    \n",
    "    "
   ]
  },
  {
   "cell_type": "raw",
   "id": "d4d9af97-c054-4009-81c7-3d99c0adb11b",
   "metadata": {},
   "source": [
    "32.Write a Python program to remove duplicates from a list."
   ]
  },
  {
   "cell_type": "code",
   "execution_count": 4,
   "id": "3c6e99b5-ea66-4329-813c-3f0ffdee6f84",
   "metadata": {},
   "outputs": [
    {
     "name": "stdout",
     "output_type": "stream",
     "text": [
      "[1, 2, 3, 4, 5, 6, 7]\n"
     ]
    }
   ],
   "source": [
    "l1 = [1,2,2,3,4,5,5,6,6,7]\n",
    "l2=[]\n",
    "\n",
    "for i in l1:\n",
    "    if i not in l2:\n",
    "        l2.append(i)\n",
    "print(l2)"
   ]
  },
  {
   "cell_type": "raw",
   "id": "dd3522fd-0df5-43c0-8a81-9062601454f5",
   "metadata": {},
   "source": [
    "33.Write a Python program to check a list is empty or not."
   ]
  },
  {
   "cell_type": "code",
   "execution_count": 66,
   "id": "9911de43-0d9d-4d7f-8a68-30c79804739c",
   "metadata": {},
   "outputs": [
    {
     "name": "stdout",
     "output_type": "stream",
     "text": [
      "list is not empty\n"
     ]
    }
   ],
   "source": [
    "l1 = [1,2,3,4]\n",
    "l2=[]\n",
    "\n",
    "if len(l1)>0:\n",
    "    print(\"list is not empty\")\n",
    "else:\n",
    "    print(\"list is empty\")"
   ]
  },
  {
   "cell_type": "raw",
   "id": "7d022705-b03f-447a-884a-ed1d8e413fe5",
   "metadata": {},
   "source": [
    "34.Write a Python function that takes two lists and returns true if they\n",
    "have at least one common member."
   ]
  },
  {
   "cell_type": "code",
   "execution_count": 72,
   "id": "9d4c1e2f-127d-476a-8f4f-57ed30eba056",
   "metadata": {},
   "outputs": [
    {
     "data": {
      "text/plain": [
       "True"
      ]
     },
     "execution_count": 72,
     "metadata": {},
     "output_type": "execute_result"
    }
   ],
   "source": [
    "l1=[1,2,3,4,5]\n",
    "l2=[6,5,7,8,9]\n",
    "\n",
    "def common_member(l1,l2):\n",
    "    for i in l1:\n",
    "        if i in l2:\n",
    "            return True\n",
    "    return False\n",
    "\n",
    "common_member(l1,l2)\n"
   ]
  },
  {
   "cell_type": "raw",
   "id": "3d39386a-0751-4099-85fc-857cd945b4c3",
   "metadata": {},
   "source": [
    "35.Write a Python program to generate and print a list of first and last 5\n",
    "elements where the values are square of numbers between 1 and 30."
   ]
  },
  {
   "cell_type": "code",
   "execution_count": 3,
   "id": "58cca9df-cb94-423d-8035-819c23cab65c",
   "metadata": {},
   "outputs": [
    {
     "name": "stdout",
     "output_type": "stream",
     "text": [
      "\n",
      " first 5 elements\n",
      "[1, 4, 9, 16, 25]\n",
      "\n",
      " last 5 elements\n",
      "[676, 729, 784, 841, 900]\n"
     ]
    }
   ],
   "source": [
    "def square_number():\n",
    "    squares=[i**2 for i in range(1,31)]\n",
    "    print(\"\\n first 5 elements\")\n",
    "    print(squares[:5])\n",
    "\n",
    "    print(\"\\n last 5 elements\")\n",
    "    print(squares[-5:])\n",
    "\n",
    "square_number()"
   ]
  },
  {
   "cell_type": "raw",
   "id": "790f39eb-24c2-454a-9470-8f3446ebe023",
   "metadata": {},
   "source": [
    "36.Write a Python function that takes a list and returns a new list with\n",
    "unique elements of the first list."
   ]
  },
  {
   "cell_type": "code",
   "execution_count": 5,
   "id": "6da9caf9-af93-4a9c-bb9b-bec82f0207de",
   "metadata": {},
   "outputs": [
    {
     "name": "stdout",
     "output_type": "stream",
     "text": [
      "[1, 2, 3, 4, 5, 6, 7]\n"
     ]
    }
   ],
   "source": [
    "l1 = [1,2,2,3,4,5,5,6,6,7]\n",
    "l2=[]\n",
    "\n",
    "for i in l1:\n",
    "    if i not in l2:\n",
    "        l2.append(i)\n",
    "print(l2)"
   ]
  },
  {
   "cell_type": "raw",
   "id": "6d85cd9b-616e-4ad7-afeb-d78eff76bed0",
   "metadata": {},
   "source": [
    "37.Write a Python program to convert a list of characters into a string."
   ]
  },
  {
   "cell_type": "code",
   "execution_count": 6,
   "id": "3dd5fb24-54a2-4ab3-b725-bd06c32c0d4b",
   "metadata": {},
   "outputs": [
    {
     "name": "stdout",
     "output_type": "stream",
     "text": [
      "GOODMORNING\n"
     ]
    }
   ],
   "source": [
    "l1=['G','O','O','D','M','O','R','N','I','N','G']\n",
    "\n",
    "str_1 = \"\".join(l1)\n",
    "\n",
    "print(str_1)"
   ]
  },
  {
   "cell_type": "raw",
   "id": "7249da44-01dc-4985-8116-528e50b658fc",
   "metadata": {},
   "source": [
    "38. Write a Python program to select an item randomly from a list."
   ]
  },
  {
   "cell_type": "code",
   "execution_count": 13,
   "id": "bf7eab13-3b01-4a83-9443-cfbd0eb5d45e",
   "metadata": {},
   "outputs": [
    {
     "name": "stdout",
     "output_type": "stream",
     "text": [
      "banana\n"
     ]
    }
   ],
   "source": [
    "import random\n",
    "\n",
    "l1=[\"hello\",\"morning\",\"apple\",\"banana\",\"good\"]\n",
    "\n",
    "random_item= random.choice(l1)\n",
    "\n",
    "print(random_item)"
   ]
  },
  {
   "cell_type": "raw",
   "id": "8d648302-a439-4409-9bfc-dce4368cf0e3",
   "metadata": {},
   "source": [
    "39. Write a Python program to find the second smallest number in a list."
   ]
  },
  {
   "cell_type": "code",
   "execution_count": 18,
   "id": "8419fea8-b6b8-4132-99a1-8ebfd505e6bf",
   "metadata": {},
   "outputs": [
    {
     "name": "stdout",
     "output_type": "stream",
     "text": [
      "2\n"
     ]
    }
   ],
   "source": [
    "l1 =[1,22,23,58,74,2]\n",
    "\n",
    "sorted_list = sorted(l1)\n",
    "\n",
    "print(sorted_list[1])\n",
    "\n"
   ]
  },
  {
   "cell_type": "raw",
   "id": "48df3849-462b-4298-9d24-5b3e14940405",
   "metadata": {},
   "source": [
    "40.Write a Python program to get unique values from a list"
   ]
  },
  {
   "cell_type": "code",
   "execution_count": 1,
   "id": "05575d62-84fb-42b0-91e9-dc28187e7130",
   "metadata": {},
   "outputs": [
    {
     "name": "stdout",
     "output_type": "stream",
     "text": [
      "[1, 2, 3, 4, 5, 6, 7]\n"
     ]
    }
   ],
   "source": [
    "l1 = [1,2,3,4,5,6,6,7,7]\n",
    "unique_list =list(set(l1))\n",
    "print(unique_list)"
   ]
  },
  {
   "cell_type": "raw",
   "id": "a303ee45-2633-488e-b180-13b710b1835f",
   "metadata": {},
   "source": [
    "41.Write a Python program to check whether a list contains a sub list"
   ]
  },
  {
   "cell_type": "code",
   "execution_count": 57,
   "id": "e9d2663b-8163-4fee-bc8d-28ad571f9fc4",
   "metadata": {},
   "outputs": [
    {
     "name": "stdout",
     "output_type": "stream",
     "text": [
      "list contains sublist\n"
     ]
    }
   ],
   "source": [
    "l1 =[1,2,3,[2,3],4,5]\n",
    "l2 =[2,3,4,5,6]\n",
    "\n",
    "found_sublist = False\n",
    "for i in l1:\n",
    "    if isinstance(i,list):\n",
    "        found_sublist = True\n",
    "        break\n",
    "if found_sublist:\n",
    "    print(\"list contains sublist\")\n",
    "else:\n",
    "    print(\"list doesn't contains sublist\")\n",
    "\n"
   ]
  },
  {
   "cell_type": "raw",
   "id": "a04ea02e-a332-4c8d-8c1b-ce253be894aa",
   "metadata": {},
   "source": [
    "42.Write a Python program to split a list into different variables."
   ]
  },
  {
   "cell_type": "code",
   "execution_count": 49,
   "id": "43af803d-25ac-4c7e-87a0-74f4cc785e7c",
   "metadata": {},
   "outputs": [
    {
     "name": "stdout",
     "output_type": "stream",
     "text": [
      "12\n",
      "36\n",
      "[56, 'apple', 21]\n"
     ]
    }
   ],
   "source": [
    "l1 = [12,36,[56,\"apple\",21]]\n",
    "a,b,*rest = l1\n",
    "print(a)\n",
    "print(b)\n",
    "print(*rest)\n"
   ]
  },
  {
   "cell_type": "raw",
   "id": "22520513-339b-425f-8585-8110a1517fca",
   "metadata": {},
   "source": [
    "44.Write a Python program to create a tuple with different data types."
   ]
  },
  {
   "cell_type": "code",
   "execution_count": 20,
   "id": "889d9b8f-00db-44aa-8ca2-a53476bc617d",
   "metadata": {},
   "outputs": [
    {
     "name": "stdout",
     "output_type": "stream",
     "text": [
      "('apple', 1, 2, '12')\n"
     ]
    }
   ],
   "source": [
    "tup=(\"apple\",1,2,\"12\")\n",
    "\n",
    "print(tup)"
   ]
  },
  {
   "cell_type": "raw",
   "id": "2914bf27-5770-4f99-8cde-59d9a601ade3",
   "metadata": {},
   "source": [
    "45.Write a Python program to unzip a list of tuples into individual lists."
   ]
  },
  {
   "cell_type": "code",
   "execution_count": 24,
   "id": "269f6745-7f3a-4549-97b2-4647206ae6c0",
   "metadata": {},
   "outputs": [
    {
     "name": "stdout",
     "output_type": "stream",
     "text": [
      "[(1, 2)]\n",
      "[('apple', 'banana')]\n",
      "[(4, 5)]\n"
     ]
    }
   ],
   "source": [
    "my_list = [(1,2),(\"apple\",\"banana\"),(4,5)]\n",
    "\n",
    "l1 = []\n",
    "l2=[]\n",
    "l3=[]\n",
    "\n",
    "\n",
    "l1.append(my_list[0])\n",
    "l2.append(my_list[1])\n",
    "l3.append(my_list[2])\n",
    "\n",
    "print(l1)\n",
    "print(l2)\n",
    "print(l3)"
   ]
  },
  {
   "cell_type": "raw",
   "id": "e57fbbf8-8e6a-4a95-b5fb-d7a2b8770765",
   "metadata": {},
   "source": [
    "46.Write a Python program to convert a list of tuples into a dictionary."
   ]
  },
  {
   "cell_type": "code",
   "execution_count": 26,
   "id": "cdbdcf0c-d4be-4674-8a80-b9c6a783fcb0",
   "metadata": {},
   "outputs": [
    {
     "name": "stdout",
     "output_type": "stream",
     "text": [
      "{'alice': 23, 'bob': 24, 'rob': 25}\n"
     ]
    }
   ],
   "source": [
    "l1 =[(\"alice\",23),(\"bob\",24),(\"rob\",25)]\n",
    "\n",
    "\n",
    "l1 = dict(l1)\n",
    "print(l1)\n",
    "\n"
   ]
  },
  {
   "cell_type": "raw",
   "id": "c11970b2-760e-427c-867f-291e3305d7f2",
   "metadata": {},
   "source": [
    "48.Write a Python script to sort (ascending and descending) a\n",
    "dictionary by value."
   ]
  },
  {
   "cell_type": "code",
   "execution_count": 59,
   "id": "5506feaa-ea5f-4a02-918f-d024c6945997",
   "metadata": {},
   "outputs": [
    {
     "name": "stdout",
     "output_type": "stream",
     "text": [
      "{'david': 20, 'charlie': 21, 'bob': 25, 'alice': 85}\n",
      "{'alice': 85, 'bob': 25, 'charlie': 21, 'david': 20}\n"
     ]
    }
   ],
   "source": [
    "my_dict = {\"alice\":85,\"bob\":25,\"david\":20,\"charlie\":21}\n",
    "\n",
    "sort_asc = sorted(my_dict.items(),key=lambda item:item[1])\n",
    "#print(sort_asc)\n",
    "\n",
    "sort_desc = sorted(my_dict.items(),key=lambda item:item[1],reverse=True)\n",
    "#print(sort_desc)\n",
    "\n",
    "sort_dict_asc=dict(sort_asc)\n",
    "print(sort_dict_asc)\n",
    "\n",
    "sort_dict_desc = dict(sort_desc)\n",
    "print(sort_dict_desc)\n"
   ]
  },
  {
   "cell_type": "raw",
   "id": "01a6aac2-0bf4-470c-bf1e-1dec0adfd3ac",
   "metadata": {},
   "source": [
    "49.Write a Python script to concatenate following dictionaries to create\n",
    "a new one."
   ]
  },
  {
   "cell_type": "code",
   "execution_count": 33,
   "id": "0dc0eb31-aa5f-4f7b-87ac-47de7937aff1",
   "metadata": {},
   "outputs": [
    {
     "name": "stdout",
     "output_type": "stream",
     "text": [
      "{'alice': 85, 'bob': 25, 'david': 20, 'charlie': 21, 'maths': 90, 'science': 45, 'english': 90}\n",
      "{'alice': 85, 'bob': 25, 'david': 20, 'charlie': 21, 'maths': 90, 'science': 45, 'english': 90}\n"
     ]
    }
   ],
   "source": [
    "dict_1 = {\"alice\":85,\"bob\":25,\"david\":20,\"charlie\":21}\n",
    "dict_2 = {\"maths\":90,\"science\":45,\"english\":90}\n",
    "\n",
    "new_dict = {**dict_1,**dict_2}\n",
    "\n",
    "print(new_dict)\n",
    "\n",
    "# method 2\n",
    "new_dict1 ={}\n",
    "new_dict1.update(dict_1)\n",
    "new_dict1.update(dict_2)\n",
    "\n",
    "print(new_dict1)"
   ]
  },
  {
   "cell_type": "raw",
   "id": "97a243be-7125-497e-b143-6b69bc79fdcb",
   "metadata": {},
   "source": [
    "50.Write a Python script to check if a given key already exists in a\n",
    "dictionary."
   ]
  },
  {
   "cell_type": "code",
   "execution_count": 2,
   "id": "dc067323-a841-4996-a9ec-92a72557ef63",
   "metadata": {},
   "outputs": [
    {
     "name": "stdin",
     "output_type": "stream",
     "text": [
      "Enter key: alice\n"
     ]
    },
    {
     "name": "stdout",
     "output_type": "stream",
     "text": [
      "alice exist in dictionary\n"
     ]
    }
   ],
   "source": [
    "my_dict = {\"alice\":85,\"bob\":25,\"david\":20,\"charlie\":21}\n",
    "\n",
    "key=input(\"Enter key:\")\n",
    "\n",
    "if key in my_dict:\n",
    "    print(f\"{key} exist in dictionary\")\n",
    "else:\n",
    "    print(f\"{key} doesn't exist\")"
   ]
  },
  {
   "cell_type": "raw",
   "id": "0b896a99-d9fc-4cf6-8c07-c495801fde0f",
   "metadata": {},
   "source": [
    "53.Write a Python script to print a dictionary where the keys are\n",
    "numbers between 1 and 15."
   ]
  },
  {
   "cell_type": "code",
   "execution_count": 5,
   "id": "52bf54b8-db0b-4f91-81c7-b0a56756baeb",
   "metadata": {},
   "outputs": [
    {
     "name": "stdout",
     "output_type": "stream",
     "text": [
      "{1: 1, 2: 4, 3: 9, 4: 16, 5: 25, 6: 36, 7: 49, 8: 64, 9: 81, 10: 100, 11: 121, 12: 144, 13: 169, 14: 196, 15: 225}\n"
     ]
    }
   ],
   "source": [
    "my_dict = {}\n",
    "for i in range(1,16):\n",
    "    my_dict[i]=i*i\n",
    "print(my_dict)\n"
   ]
  },
  {
   "cell_type": "raw",
   "id": "7e85188f-bfff-464f-9c14-f5cee76670d9",
   "metadata": {},
   "source": [
    "54.Write a Python program to check multiple keys exists in a dictionary"
   ]
  },
  {
   "cell_type": "code",
   "execution_count": 3,
   "id": "530d453c-4100-4008-b1ed-fc2541b72998",
   "metadata": {},
   "outputs": [
    {
     "name": "stdout",
     "output_type": "stream",
     "text": [
      "multiple key exist\n"
     ]
    }
   ],
   "source": [
    "my_dict = {'name':\"Alice\",\"city\":\"New York\"}\n",
    "\n",
    "a=len(my_dict)\n",
    "if a==1 or a==0:\n",
    "    print(\"multiple key doesn't exist\")\n",
    "else:\n",
    "    print(\"multiple key exist\")\n"
   ]
  },
  {
   "cell_type": "raw",
   "id": "76833e33-d1b3-481b-afd8-393076e41ef5",
   "metadata": {},
   "source": [
    "55.Write a Python script to merge two Python dictionaries"
   ]
  },
  {
   "cell_type": "code",
   "execution_count": 10,
   "id": "a99685dc-82fe-4d7a-9ce4-d9984e0be771",
   "metadata": {},
   "outputs": [
    {
     "name": "stdout",
     "output_type": "stream",
     "text": [
      "{'alice': 85, 'bob': 25, 'david': 20, 'charlie': 21, 'maths': 90, 'science': 45, 'english': 90}\n"
     ]
    }
   ],
   "source": [
    "dict_1 = {\"alice\":85,\"bob\":25,\"david\":20,\"charlie\":21}\n",
    "dict_2 = {\"maths\":90,\"science\":45,\"english\":90}\n",
    "\n",
    "new_dict1 ={}\n",
    "new_dict1.update(dict_1)\n",
    "new_dict1.update(dict_2)\n",
    "print(new_dict1)"
   ]
  },
  {
   "cell_type": "raw",
   "id": "9d666087-b513-44e4-8c48-b7eacdad54a5",
   "metadata": {},
   "source": [
    "56.Write a Python program to map two lists into a dictionary\n",
    "Sample output: Counter ({'a': 400, 'b': 400,’d’: 400, 'c': 300})."
   ]
  },
  {
   "cell_type": "code",
   "execution_count": 12,
   "id": "b8469a56-e178-4cb4-87b9-9e7661a3e3f9",
   "metadata": {},
   "outputs": [
    {
     "name": "stdout",
     "output_type": "stream",
     "text": [
      "<zip object at 0x0000020219BBAA80>\n",
      "{'alice': 10, 'Bob': 25, 'Sean': 36, 'Anna': 52}\n"
     ]
    }
   ],
   "source": [
    "l1= [\"alice\",\"Bob\",\"Sean\",\"Anna\"]\n",
    "l2 = [10,25,36,52]\n",
    "\n",
    "items = zip(l1,l2)\n",
    "print(items)\n",
    "\n",
    "my_dict = dict(items)\n",
    "print(my_dict)"
   ]
  },
  {
   "cell_type": "raw",
   "id": "b4a0dcfa-75c5-44cf-9604-d9ba353e4645",
   "metadata": {},
   "source": [
    "57.Write a Python program to find the highest 3 values in a dictionary"
   ]
  },
  {
   "cell_type": "code",
   "execution_count": 42,
   "id": "29dfea1e-cffc-4586-9ca0-ca34edff2d7c",
   "metadata": {},
   "outputs": [
    {
     "name": "stdout",
     "output_type": "stream",
     "text": [
      "Highest 3 values are -> [85, 25, 21]\n"
     ]
    }
   ],
   "source": [
    "my_dict = {\"alice\":85,\"bob\":25,\"david\":20,\"charlie\":21}\n",
    "\n",
    "value = sorted(my_dict.values(),reverse=True)\n",
    "#value\n",
    "top_3 = value[:3]\n",
    "#top_3\n",
    "print(\"Highest 3 values are ->\",top_3)\n"
   ]
  },
  {
   "cell_type": "raw",
   "id": "b3673137-a29b-43b5-9145-05011d3f9bd0",
   "metadata": {},
   "source": [
    "58.Write a Python program to combine values in python list of dictionaries.\n",
    "Sample data: [{'item': 'item1', 'amount': 400}, {'item': 'item2', 'amount':\n",
    "300}, o {'item': 'item1', 'amount': 750}]\n",
    "Expected Output:\n",
    "• Counter ({'item1': 1150, 'item2': 300})"
   ]
  },
  {
   "cell_type": "code",
   "execution_count": 35,
   "id": "08a162a5-ab1a-4624-90f7-4cc8f4edd3a8",
   "metadata": {},
   "outputs": [
    {
     "name": "stdout",
     "output_type": "stream",
     "text": [
      "counter( {'item1': 1150, 'item2': 300} )\n"
     ]
    }
   ],
   "source": [
    "\n",
    "l1= [{'item': 'item1', 'amount': 400}, {'item': 'item2', 'amount':300}, {'item': 'item1', 'amount': 750}]\n",
    "result ={}\n",
    "\n",
    "for i in l1:\n",
    "    item = i['item']\n",
    "    amount = i['amount']\n",
    "    if item in result:\n",
    "        result[item] += amount\n",
    "    else:\n",
    "        result[item] = amount\n",
    "\n",
    "print(\"counter(\",result,\")\")\n",
    "\n"
   ]
  },
  {
   "cell_type": "raw",
   "id": "b5416191-156e-4e06-8a54-cc462a2b014f",
   "metadata": {},
   "source": [
    "59.Write a Python program to create a dictionary from a string.\n",
    "Note: Track the count of the letters from the string."
   ]
  },
  {
   "cell_type": "code",
   "execution_count": 6,
   "id": "3672b745-ae2f-467e-9f3d-6dc963501e4f",
   "metadata": {},
   "outputs": [
    {
     "data": {
      "text/plain": [
       "{'G': 1, 'o': 2, 'd': 1}"
      ]
     },
     "execution_count": 6,
     "metadata": {},
     "output_type": "execute_result"
    }
   ],
   "source": [
    "\n",
    "def count_character(my_string):\n",
    "\n",
    "    c_count = {}\n",
    "    for i in my_string:\n",
    "        if i in c_count:\n",
    "            c_count[i] +=1\n",
    "        else:\n",
    "            c_count[i]=1\n",
    "    return c_count\n",
    "\n",
    "count_character(\"Good\")\n",
    "    "
   ]
  },
  {
   "cell_type": "raw",
   "id": "6447130d-d493-47bf-a1a2-1144c99164a1",
   "metadata": {},
   "source": [
    "60.Sample string:\n",
    "'w3resource' Expected output:\n",
    "• {'3': 1,’s’: 1, 'r': 2, 'u': 1, 'w': 1, 'c': 1, 'e': 2, 'o': 1}"
   ]
  },
  {
   "cell_type": "code",
   "execution_count": 7,
   "id": "07629ace-5376-4954-a370-370c4c637a9f",
   "metadata": {},
   "outputs": [
    {
     "data": {
      "text/plain": [
       "{'w': 1, '3': 1, 'r': 2, 'e': 2, 's': 1, 'o': 1, 'u': 1, 'c': 1}"
      ]
     },
     "execution_count": 7,
     "metadata": {},
     "output_type": "execute_result"
    }
   ],
   "source": [
    "def count_character(my_string):\n",
    "\n",
    "    c_count = {}\n",
    "    for i in my_string:\n",
    "        if i in c_count:\n",
    "            c_count[i] +=1\n",
    "        else:\n",
    "            c_count[i]=1\n",
    "    return c_count\n",
    "\n",
    "count_character(\"w3resource\")"
   ]
  },
  {
   "cell_type": "raw",
   "id": "afd73c87-5af5-483b-81f6-28f021c64355",
   "metadata": {},
   "source": [
    "61.Write a Python function to calculate the factorial of a number (a\n",
    "nonnegative integer)"
   ]
  },
  {
   "cell_type": "code",
   "execution_count": 12,
   "id": "00deb97d-5cf1-4f78-ac34-b31d64ccf3c7",
   "metadata": {},
   "outputs": [
    {
     "data": {
      "text/plain": [
       "120"
      ]
     },
     "execution_count": 12,
     "metadata": {},
     "output_type": "execute_result"
    }
   ],
   "source": [
    "def factorial(n):\n",
    "    if n==0:\n",
    "        return 1\n",
    "    else:\n",
    "        result = 1\n",
    "        for i in range(1,n+1):\n",
    "            result*=i\n",
    "        return result\n",
    "\n",
    "factorial(5)"
   ]
  },
  {
   "cell_type": "raw",
   "id": "1469ccdf-edbd-4987-8c47-008554f8d398",
   "metadata": {},
   "source": [
    "62.Write a Python function to check whether a number is in a given range"
   ]
  },
  {
   "cell_type": "code",
   "execution_count": 20,
   "id": "201ed6db-b134-44e9-8835-81bceb1191bb",
   "metadata": {},
   "outputs": [
    {
     "name": "stdout",
     "output_type": "stream",
     "text": [
      "5 is in the range\n"
     ]
    }
   ],
   "source": [
    "def given_range(n):\n",
    "\n",
    "    if n in range(20):\n",
    "        print(f\"{n} is in the range\")\n",
    "    else:\n",
    "        print(f\"{n} is out of the range\")\n",
    "    \n",
    "\n",
    "given_range(5)\n",
    "            \n"
   ]
  },
  {
   "cell_type": "raw",
   "id": "4ad66576-a51e-4fc4-89e8-88558a1f45f8",
   "metadata": {},
   "source": [
    "63.Write a Python function to check whether a number is perfect or not."
   ]
  },
  {
   "cell_type": "code",
   "execution_count": 39,
   "id": "d9163042-37f1-44ed-bbee-8103e7f19944",
   "metadata": {},
   "outputs": [
    {
     "data": {
      "text/plain": [
       "True"
      ]
     },
     "execution_count": 39,
     "metadata": {},
     "output_type": "execute_result"
    }
   ],
   "source": [
    "def perfect_number(n):\n",
    "\n",
    "    if n<=0:\n",
    "        return False\n",
    "    sum_of_divisors = 0\n",
    "    for i in range(1,n):\n",
    "        if n%i==0:\n",
    "            \n",
    "            sum_of_divisors +=i\n",
    " \n",
    "    return sum_of_divisors == n\n",
    "\n",
    "perfect_number(6)"
   ]
  },
  {
   "cell_type": "raw",
   "id": "7784c3a1-5c7d-41c9-a9d5-b0628d5dc648",
   "metadata": {},
   "source": [
    "64.Write a Python function that checks whether a passed string is\n",
    "palindrome or not"
   ]
  },
  {
   "cell_type": "code",
   "execution_count": 45,
   "id": "9db0b147-2d7f-433f-9ea2-3d1fd287af78",
   "metadata": {},
   "outputs": [
    {
     "name": "stdin",
     "output_type": "stream",
     "text": [
      "enter string hello\n"
     ]
    },
    {
     "name": "stdout",
     "output_type": "stream",
     "text": [
      "'hello' is not palindrome\n"
     ]
    }
   ],
   "source": [
    "def palindrome(my_string):\n",
    "    my_string=input(\"enter string\")\n",
    "\n",
    "    if my_string == my_string[::-1]:\n",
    "        print(f\"'{my_string}' is palindrome\")\n",
    "    else:\n",
    "        print(f\"'{my_string}' is not palindrome\")\n",
    "\n",
    "palindrome(my_string)\n"
   ]
  },
  {
   "cell_type": "raw",
   "id": "bb421353-60a0-460b-9c14-9ebabc499541",
   "metadata": {},
   "source": [
    "66.How can you pick a random item from a list or tuple?"
   ]
  },
  {
   "cell_type": "code",
   "execution_count": 48,
   "id": "45ff07b5-ee10-44e1-825d-7978c675a933",
   "metadata": {},
   "outputs": [
    {
     "name": "stdout",
     "output_type": "stream",
     "text": [
      "hii\n"
     ]
    }
   ],
   "source": [
    "import random\n",
    "l1 = [1,2,3,\"hii\",\"apple\",6]\n",
    "\n",
    "n=random.choice(l1)\n",
    "\n",
    "print(n)"
   ]
  },
  {
   "cell_type": "raw",
   "id": "e3c965fa-3e21-4120-93cb-697a2f737555",
   "metadata": {},
   "source": [
    "67.How can you pick a random item from a range?"
   ]
  },
  {
   "cell_type": "code",
   "execution_count": 52,
   "id": "d2dae92b-ea62-4fdd-a391-b364134706cd",
   "metadata": {},
   "outputs": [
    {
     "name": "stdout",
     "output_type": "stream",
     "text": [
      "7\n"
     ]
    }
   ],
   "source": [
    "import random\n",
    "\n",
    "n = random.randrange(3,9)\n",
    "print(n)"
   ]
  },
  {
   "cell_type": "raw",
   "id": "f5417cba-883d-4f82-8e03-5db574e380ea",
   "metadata": {},
   "source": [
    "68.How can you get a random number in python?"
   ]
  },
  {
   "cell_type": "code",
   "execution_count": 59,
   "id": "d3fc2947-8381-46d4-8af9-ada23fbebeef",
   "metadata": {},
   "outputs": [
    {
     "name": "stdout",
     "output_type": "stream",
     "text": [
      "0.17666805077873693\n"
     ]
    }
   ],
   "source": [
    "import random\n",
    "\n",
    "n = random.random()\n",
    "print(n)"
   ]
  },
  {
   "cell_type": "raw",
   "id": "7c66c590-1f8a-467c-8c64-fda41205815b",
   "metadata": {},
   "source": [
    "69.How will you set the starting value in generating random numbers?"
   ]
  },
  {
   "cell_type": "code",
   "execution_count": 66,
   "id": "4c1388f7-a035-4bd8-aa77-a2df16f61506",
   "metadata": {},
   "outputs": [
    {
     "name": "stdout",
     "output_type": "stream",
     "text": [
      "6\n"
     ]
    }
   ],
   "source": [
    "import random\n",
    "\n",
    "n = random.randint(1,10)\n",
    "print(n)"
   ]
  },
  {
   "cell_type": "raw",
   "id": "0cd45273-bdc0-4720-880e-ee9c4b0d0417",
   "metadata": {},
   "source": [
    "70.How will you randomize the items of a list in place?"
   ]
  },
  {
   "cell_type": "code",
   "execution_count": 72,
   "id": "374e2594-0ae7-432a-b052-50d32759a55c",
   "metadata": {},
   "outputs": [
    {
     "name": "stdout",
     "output_type": "stream",
     "text": [
      "['hii', 'apple', 1, 6, 3, 2]\n"
     ]
    }
   ],
   "source": [
    "import random\n",
    "l1 = [1,2,3,\"hii\",\"apple\",6]\n",
    "\n",
    "n=random.shuffle(l1)\n",
    "\n",
    "print(l1)"
   ]
  },
  {
   "cell_type": "raw",
   "id": "d373b206-f1fa-4992-b013-0a63939597e1",
   "metadata": {},
   "source": [
    "72.Write a Python program to read an entire text file."
   ]
  },
  {
   "cell_type": "code",
   "execution_count": 4,
   "id": "6900b8c2-8a19-489b-912e-c6da7051080c",
   "metadata": {},
   "outputs": [
    {
     "name": "stdout",
     "output_type": "stream",
     "text": [
      "hello!\n",
      "how are you?\n"
     ]
    }
   ],
   "source": [
    "with open (\"text3.txt\",\"r\") as file:\n",
    "    content = file.read()\n",
    "print(content)"
   ]
  },
  {
   "cell_type": "raw",
   "id": "a36717c8-a5fa-4144-aa9a-6f287d8e7d31",
   "metadata": {},
   "source": [
    "73.Write a Python program to append text to a file and display the text."
   ]
  },
  {
   "cell_type": "code",
   "execution_count": 10,
   "id": "40d74698-e25a-4ce4-9a49-06cbfafb7cdd",
   "metadata": {},
   "outputs": [
    {
     "name": "stdout",
     "output_type": "stream",
     "text": [
      "13\n",
      "hello!\n",
      "how are you?\n",
      "Good morning\n",
      "\n",
      "Good morning\n"
     ]
    }
   ],
   "source": [
    "with open (\"text3.txt\",\"a\") as file:\n",
    "    print(file.write(\"\\nGood morning\"))\n",
    "with open (\"text3.txt\",\"r\") as file:\n",
    "    content = file.read()\n",
    "print(content)\n",
    "\n",
    "    "
   ]
  },
  {
   "cell_type": "raw",
   "id": "97885101-9a97-496c-a972-f5cdfd44362b",
   "metadata": {},
   "source": [
    "74.Write a Python program to read first n lines of a file."
   ]
  },
  {
   "cell_type": "code",
   "execution_count": 30,
   "id": "e94709c4-b3c8-44ea-8f18-c1b91d6d765a",
   "metadata": {},
   "outputs": [
    {
     "name": "stdin",
     "output_type": "stream",
     "text": [
      "enter number: 4\n"
     ]
    },
    {
     "name": "stdout",
     "output_type": "stream",
     "text": [
      "1:hello!\n",
      "2:how are you?\n",
      "3:Good morning\n",
      "4:Good morning\n"
     ]
    }
   ],
   "source": [
    "n=int(input(\"enter number:\"))\n",
    "with open(\"list.txt\",\"r\") as file:\n",
    "    for i,line in enumerate(file,1):\n",
    "        if i>n:\n",
    "            break\n",
    "        print(f\"{i}:{line.strip()}\")\n",
    "        \n",
    "   \n",
    "\n"
   ]
  },
  {
   "cell_type": "raw",
   "id": "a679fb89-4968-4893-91bd-729ab3800220",
   "metadata": {},
   "source": [
    "75.Write a Python program to read last n lines of a file."
   ]
  },
  {
   "cell_type": "code",
   "execution_count": 21,
   "id": "69653fbd-29ff-44fa-9455-7970847356f8",
   "metadata": {},
   "outputs": [
    {
     "name": "stdin",
     "output_type": "stream",
     "text": [
      "enter number: 2\n"
     ]
    },
    {
     "name": "stdout",
     "output_type": "stream",
     "text": [
      "Good morning\n",
      "Good morning\n"
     ]
    }
   ],
   "source": [
    "n=int(input(\"enter number:\"))\n",
    "l2 = []\n",
    "with open(\"list.txt\",\"r\") as file:\n",
    "    l2 = file.readlines()\n",
    "    last_n_line = [line.strip() for line in l2[-n:]]\n",
    "\n",
    "for line in last_n_line:\n",
    "    print(line)"
   ]
  },
  {
   "cell_type": "raw",
   "id": "40bf70f7-a7a6-4170-a1ae-5eb8f78e18ce",
   "metadata": {},
   "source": [
    "76.Write a Python program to read a file line by line and store it into a list"
   ]
  },
  {
   "cell_type": "code",
   "execution_count": 19,
   "id": "f918d6f2-6c81-42ce-9524-7c249535380d",
   "metadata": {},
   "outputs": [
    {
     "name": "stdout",
     "output_type": "stream",
     "text": [
      "['hello!', 'how are you?', 'Good morning', 'Good morning']\n"
     ]
    }
   ],
   "source": [
    "l1=[]\n",
    "with open(\"list.txt\",\"r\") as file:\n",
    "    for line in file:\n",
    "        l1.append(line.strip())\n",
    "print(l1)"
   ]
  },
  {
   "cell_type": "raw",
   "id": "0e1d58fd-95ed-406a-8333-9aa2b742da40",
   "metadata": {},
   "source": [
    "77.Write a Python program to read a file line by line store it into a variable."
   ]
  },
  {
   "cell_type": "code",
   "execution_count": 15,
   "id": "d580452d-4904-4805-b804-ea7a62ff185a",
   "metadata": {},
   "outputs": [
    {
     "name": "stdout",
     "output_type": "stream",
     "text": [
      "hello!\n",
      "how are you?\n",
      "Good morning\n",
      "Good morning\n"
     ]
    }
   ],
   "source": [
    "a=\"\"\n",
    "with open(\"list.txt\") as file:\n",
    "    for line in file:\n",
    "        a += line\n",
    "print(a)"
   ]
  },
  {
   "cell_type": "raw",
   "id": "c7bb1384-1745-4369-ba53-b83607d24838",
   "metadata": {},
   "source": [
    "78.Write a python program to find the longest words."
   ]
  },
  {
   "cell_type": "code",
   "execution_count": 20,
   "id": "c16aeb50-99b1-46e5-9165-2666b420d17e",
   "metadata": {},
   "outputs": [
    {
     "name": "stdout",
     "output_type": "stream",
     "text": [
      "['hello!', 'how are you?', 'Good morning', 'Good morning']\n",
      "longest word is -> how are you?\n"
     ]
    }
   ],
   "source": [
    "l1=[]\n",
    "with open(\"list.txt\",\"r\") as file:\n",
    "    for line in file:\n",
    "        l1.append(line.strip())\n",
    "print(l1)\n",
    "\n",
    "longest_word = max(l1,key=len)\n",
    "print(F\"longest word is -> {longest_word}\")\n",
    "\n",
    "\n",
    "                 \n",
    "   "
   ]
  },
  {
   "cell_type": "raw",
   "id": "245ddd2a-d536-47fd-93f3-0b5064a969f9",
   "metadata": {},
   "source": [
    "79.Write a Python program to count the number of lines in a text file."
   ]
  },
  {
   "cell_type": "code",
   "execution_count": 12,
   "id": "416a8509-ac2d-4246-a533-b46231cd5ce3",
   "metadata": {},
   "outputs": [
    {
     "name": "stdout",
     "output_type": "stream",
     "text": [
      "Number of lines:4\n"
     ]
    }
   ],
   "source": [
    "with open (\"text3.txt\",\"r\") as file:\n",
    "    content = len(file.readlines())\n",
    "print(f\"Number of lines:{content}\")"
   ]
  },
  {
   "cell_type": "raw",
   "id": "e7b94deb-f29e-4775-a54a-0dcd8fa620bc",
   "metadata": {},
   "source": [
    "80.Write a Python program to count the frequency of words in a file."
   ]
  },
  {
   "cell_type": "code",
   "execution_count": 14,
   "id": "31a6bd75-9f8e-4436-8ff5-d840e46aa871",
   "metadata": {},
   "outputs": [
    {
     "name": "stdout",
     "output_type": "stream",
     "text": [
      "hello!:1\n",
      "how:1\n",
      "are:1\n",
      "you?:1\n",
      "Good:2\n",
      "morning:2\n"
     ]
    }
   ],
   "source": [
    "word_freq={}\n",
    "with open(\"text3.txt\") as file:\n",
    "    for line in file:\n",
    "        words=line.split()\n",
    "        for w in words:\n",
    "            w = w.strip()\n",
    "            if w:\n",
    "                word_freq[w]=word_freq.get(w,0)+1\n",
    "\n",
    "for w,freq in sorted(word_freq.items(),key=lambda x:x[1]):\n",
    "\n",
    "    print(f\"{w}:{freq}\")\n"
   ]
  },
  {
   "cell_type": "raw",
   "id": "2dbabb3b-5011-44c4-b8e7-211da4294d9e",
   "metadata": {},
   "source": [
    "81.Write a Python program to write a list to a file."
   ]
  },
  {
   "cell_type": "code",
   "execution_count": 15,
   "id": "38503c6c-dedb-4323-b123-274b22245b81",
   "metadata": {},
   "outputs": [
    {
     "name": "stdout",
     "output_type": "stream",
     "text": [
      "l1 added to -> list.txt\n"
     ]
    }
   ],
   "source": [
    "l1=[\"apple\",\"banana\",\"orange\"]\n",
    "\n",
    "with open(\"list.txt\",\"w\") as file:\n",
    "    for i in l1:\n",
    "        file.write(i+'\\n')\n",
    "print(\"l1 added to -> list.txt\")"
   ]
  },
  {
   "cell_type": "raw",
   "id": "e4d1cf01-6c5d-46cc-b7c4-5257ce59a886",
   "metadata": {},
   "source": [
    "82.Write a Python program to copy the contents of a file to another file."
   ]
  },
  {
   "cell_type": "code",
   "execution_count": 10,
   "id": "a5e44bcd-fcb6-403e-9379-dd1391f2bdde",
   "metadata": {},
   "outputs": [
    {
     "name": "stdout",
     "output_type": "stream",
     "text": [
      "copied  text3.txt to list.txt\n"
     ]
    }
   ],
   "source": [
    "\n",
    "def copy_file(a,b):\n",
    "    with open(\"text3.txt\",\"r\") as file:\n",
    "        content= file.read()\n",
    "    with open(\"list.txt\",\"w\") as copy:\n",
    "        copy.write(content)\n",
    "    print(f\"copied  {\"text3.txt\"} to {\"list.txt\"}\")\n",
    "\n",
    "\n",
    "copy_file(\"text3.txt\",\"list.txt\")  \n"
   ]
  },
  {
   "cell_type": "raw",
   "id": "b8d9a597-48fa-4edc-8fc3-06817a4188d7",
   "metadata": {},
   "source": [
    "90.Write python program that user to enter only odd numbers, else\n",
    "will raise an exception."
   ]
  },
  {
   "cell_type": "code",
   "execution_count": 116,
   "id": "e498d4f2-bc0a-4a17-8202-530ff40ee119",
   "metadata": {},
   "outputs": [
    {
     "name": "stdin",
     "output_type": "stream",
     "text": [
      "Enter the number: 2\n"
     ]
    },
    {
     "name": "stdout",
     "output_type": "stream",
     "text": [
      "error:Enter odd number,Please enter valid number\n"
     ]
    }
   ],
   "source": [
    "try:\n",
    "    num= int(input(\"Enter the number:\"))\n",
    "    if num%2==0:\n",
    "        raise ValueError(\"Enter odd number,Please enter valid number\")\n",
    "    print(f\"{num} is odd number\")\n",
    "    \n",
    "except ValueError as e:\n",
    "    print(f\"error:{e}\")\n"
   ]
  },
  {
   "cell_type": "code",
   "execution_count": null,
   "id": "708f677e-6180-4084-a1e0-3f6b69216948",
   "metadata": {},
   "outputs": [],
   "source": []
  }
 ],
 "metadata": {
  "kernelspec": {
   "display_name": "Python 3 (ipykernel)",
   "language": "python",
   "name": "python3"
  },
  "language_info": {
   "codemirror_mode": {
    "name": "ipython",
    "version": 3
   },
   "file_extension": ".py",
   "mimetype": "text/x-python",
   "name": "python",
   "nbconvert_exporter": "python",
   "pygments_lexer": "ipython3",
   "version": "3.12.7"
  }
 },
 "nbformat": 4,
 "nbformat_minor": 5
}
